{
 "cells": [
  {
   "cell_type": "code",
   "execution_count": 9,
   "id": "28b04aec-6a80-40e4-8a30-969b9449526e",
   "metadata": {},
   "outputs": [],
   "source": [
    "class pwskills :\n",
    "    \n",
    "    def __init__(self, name, email) :\n",
    "        \n",
    "        self.name = name\n",
    "        self.email = email\n",
    "        \n",
    "    def students_details(self) :\n",
    "            print(self.name,self.email)"
   ]
  },
  {
   "cell_type": "code",
   "execution_count": 10,
   "id": "f0f19f39-d37c-48ca-bd87-5b215be2d465",
   "metadata": {},
   "outputs": [],
   "source": [
    "pw = pwskills(\"mohan\", \"mohan@gmail.com\")"
   ]
  },
  {
   "cell_type": "code",
   "execution_count": 11,
   "id": "59237d49-83c6-4dce-834b-d3c820168b8c",
   "metadata": {},
   "outputs": [
    {
     "data": {
      "text/plain": [
       "'mohan'"
      ]
     },
     "execution_count": 11,
     "metadata": {},
     "output_type": "execute_result"
    }
   ],
   "source": [
    "pw.name"
   ]
  },
  {
   "cell_type": "code",
   "execution_count": 12,
   "id": "de708a9f-5003-4a65-8e08-068ca2dcd89a",
   "metadata": {},
   "outputs": [
    {
     "data": {
      "text/plain": [
       "'mohan@gmail.com'"
      ]
     },
     "execution_count": 12,
     "metadata": {},
     "output_type": "execute_result"
    }
   ],
   "source": [
    "pw.email"
   ]
  },
  {
   "cell_type": "code",
   "execution_count": 13,
   "id": "60941775-6fde-444f-bec6-4f44ad0b685f",
   "metadata": {},
   "outputs": [
    {
     "name": "stdout",
     "output_type": "stream",
     "text": [
      "mohan mohan@gmail.com\n"
     ]
    }
   ],
   "source": [
    "pw.students_details()"
   ]
  },
  {
   "cell_type": "code",
   "execution_count": 22,
   "id": "29d228e6-06d2-4c38-894f-62d32b9bf4f9",
   "metadata": {},
   "outputs": [],
   "source": [
    "class pwskills1 :\n",
    "    \n",
    "    def __init__(self, name, email) :\n",
    "        \n",
    "        self.name = name\n",
    "        self.email = email\n",
    "        \n",
    "    @classmethod   \n",
    "    def details(cls ,name,email):\n",
    "        return cls(name,email)\n",
    "        \n",
    "    def students_details(self) :\n",
    "            print(self.name,self.email)"
   ]
  },
  {
   "cell_type": "code",
   "execution_count": 23,
   "id": "6fb4d9af-5290-4f84-b88d-b12c47f33be4",
   "metadata": {},
   "outputs": [],
   "source": [
    "pw1 = pwskills1.details(\"sudh\",\"sudh@gmail.com\")"
   ]
  },
  {
   "cell_type": "code",
   "execution_count": 24,
   "id": "88e1daf5-99fb-4f59-82e0-316092985597",
   "metadata": {},
   "outputs": [
    {
     "data": {
      "text/plain": [
       "'sudh'"
      ]
     },
     "execution_count": 24,
     "metadata": {},
     "output_type": "execute_result"
    }
   ],
   "source": [
    "pw1.name"
   ]
  },
  {
   "cell_type": "code",
   "execution_count": 25,
   "id": "b8878f2b-bd51-4dd8-9082-c8d96fe5764e",
   "metadata": {},
   "outputs": [
    {
     "data": {
      "text/plain": [
       "'sudh@gmail.com'"
      ]
     },
     "execution_count": 25,
     "metadata": {},
     "output_type": "execute_result"
    }
   ],
   "source": [
    "pw1.email"
   ]
  },
  {
   "cell_type": "code",
   "execution_count": 27,
   "id": "70fc56ff-0b06-477a-9ae9-b480934b9d91",
   "metadata": {},
   "outputs": [
    {
     "name": "stdout",
     "output_type": "stream",
     "text": [
      "sudh sudh@gmail.com\n"
     ]
    }
   ],
   "source": [
    "pw1.students_details()"
   ]
  },
  {
   "cell_type": "code",
   "execution_count": 40,
   "id": "bf642540-06e6-4ce0-b3b1-f962f04d622f",
   "metadata": {},
   "outputs": [],
   "source": [
    "class pwskills2 :\n",
    "    \n",
    "    mobile_number = 912342424\n",
    "    \n",
    "    def __init__(self, name, email) :\n",
    "        \n",
    "        self.name = name\n",
    "        self.email = email\n",
    "        \n",
    "    @classmethod\n",
    "    def change_number(cls, mobile):\n",
    "        pwskills2.mobile_num = mobile\n",
    "        \n",
    "    @classmethod   \n",
    "    def details(cls ,name,email):\n",
    "        return cls(name,email)\n",
    "        \n",
    "    def students_details(self) :\n",
    "            print(self.name,self.email,pwskills2.mobile_num)"
   ]
  },
  {
   "cell_type": "code",
   "execution_count": null,
   "id": "68b5c409-e100-42a4-aa24-b1b2df851976",
   "metadata": {},
   "outputs": [],
   "source": [
    "pw = pwskills2.details(\"rohan\",\"rohan@gmail.com\")"
   ]
  },
  {
   "cell_type": "code",
   "execution_count": 49,
   "id": "fc9e0253-458b-4194-9344-68d6868888f5",
   "metadata": {},
   "outputs": [
    {
     "name": "stdout",
     "output_type": "stream",
     "text": [
      "mohan mohan@gmail.com\n"
     ]
    }
   ],
   "source": [
    "pw.students_details()"
   ]
  },
  {
   "cell_type": "code",
   "execution_count": 45,
   "id": "ef72da1e-6fe1-47f1-8cb7-126e321d974f",
   "metadata": {},
   "outputs": [],
   "source": [
    "pw_obj = pwskills2(\"sudh\" , \"sudh@gmail.com\")"
   ]
  },
  {
   "cell_type": "code",
   "execution_count": 48,
   "id": "434512df-6cb9-4bed-bb0a-04cf69754814",
   "metadata": {},
   "outputs": [
    {
     "ename": "NameError",
     "evalue": "name 'pw_obj' is not defined",
     "output_type": "error",
     "traceback": [
      "\u001b[0;31m---------------------------------------------------------------------------\u001b[0m",
      "\u001b[0;31mNameError\u001b[0m                                 Traceback (most recent call last)",
      "Cell \u001b[0;32mIn[48], line 1\u001b[0m\n\u001b[0;32m----> 1\u001b[0m \u001b[43mpw_obj\u001b[49m\u001b[38;5;241m.\u001b[39mstudents_details()\n",
      "\u001b[0;31mNameError\u001b[0m: name 'pw_obj' is not defined"
     ]
    }
   ],
   "source": [
    "pw_obj.students_details()"
   ]
  },
  {
   "cell_type": "code",
   "execution_count": 46,
   "id": "c14188b0-351b-4154-9f84-cfc973d45d5d",
   "metadata": {},
   "outputs": [],
   "source": [
    "pwskills2.change_number(924324234)"
   ]
  },
  {
   "cell_type": "code",
   "execution_count": 44,
   "id": "affed0d0-6f97-4fe3-8141-1596dea273f2",
   "metadata": {},
   "outputs": [
    {
     "data": {
      "text/plain": [
       "912342424"
      ]
     },
     "execution_count": 44,
     "metadata": {},
     "output_type": "execute_result"
    }
   ],
   "source": [
    "pwskills2.mobile_number"
   ]
  },
  {
   "cell_type": "code",
   "execution_count": 50,
   "id": "26a9d659-f662-406c-8521-f29c36366320",
   "metadata": {},
   "outputs": [],
   "source": [
    "class pwskills3 :\n",
    "    \n",
    "    mobile_number = 912342424\n",
    "    \n",
    "    def __init__(self, name, email) :\n",
    "        \n",
    "        self.name = name\n",
    "        self.email = email\n",
    "        \n",
    "    @classmethod\n",
    "    def change_number(cls, mobile):\n",
    "        pwskills2.mobile_num = mobile\n",
    "        \n",
    "    @classmethod   \n",
    "    def details(cls ,name,email):\n",
    "        return cls(name,email)\n",
    "        \n",
    "    def students_details(self) :\n",
    "            print(self.name,self.email,pwskills2.mobile_num)"
   ]
  },
  {
   "cell_type": "code",
   "execution_count": 51,
   "id": "784b4db2-7753-46e6-a711-499a98edb6c6",
   "metadata": {},
   "outputs": [],
   "source": [
    "def course_details(cls,course_name) :\n",
    "    print(\"course name is \", course_name)"
   ]
  },
  {
   "cell_type": "code",
   "execution_count": 52,
   "id": "405bfdbd-2795-4e57-92e8-243ad3cfc604",
   "metadata": {},
   "outputs": [],
   "source": [
    "pwskills3.course_details = classmethod(course_details)"
   ]
  },
  {
   "cell_type": "code",
   "execution_count": 53,
   "id": "4cdda2ae-8a91-4567-aef3-b599f68a9baf",
   "metadata": {},
   "outputs": [
    {
     "name": "stdout",
     "output_type": "stream",
     "text": [
      "course name is  data science masters\n"
     ]
    }
   ],
   "source": [
    "pwskills3.course_details(\"data science masters\")"
   ]
  },
  {
   "cell_type": "code",
   "execution_count": 54,
   "id": "4b83a189-2456-4620-b5ff-e2750b20f967",
   "metadata": {},
   "outputs": [],
   "source": [
    "def mentor(cls ,list_of_mentor) :\n",
    "    print(list_of_mentor)"
   ]
  },
  {
   "cell_type": "code",
   "execution_count": 55,
   "id": "cd4c0efe-22a2-4f10-9b7b-4c824a1f7dff",
   "metadata": {},
   "outputs": [],
   "source": [
    "pwskills3.mentor = classmethod(mentor)"
   ]
  },
  {
   "cell_type": "code",
   "execution_count": 56,
   "id": "9fb29d38-7cf8-4737-a31b-2de265b93b31",
   "metadata": {},
   "outputs": [
    {
     "name": "stdout",
     "output_type": "stream",
     "text": [
      "['sudhanshu ', 'krish naik']\n"
     ]
    }
   ],
   "source": [
    "pwskills3.mentor([\"sudhanshu \",\"krish naik\"])"
   ]
  },
  {
   "cell_type": "code",
   "execution_count": 57,
   "id": "3e7966b9-9953-4388-8db4-df3f13397e41",
   "metadata": {},
   "outputs": [],
   "source": [
    "class pwskills4 :\n",
    "    \n",
    "    mobile_number = 912342424\n",
    "    \n",
    "    def __init__(self, name, email) :\n",
    "        \n",
    "        self.name = name\n",
    "        self.email = email\n",
    "        \n",
    "    @classmethod\n",
    "    def change_number(cls, mobile):\n",
    "        pwskills2.mobile_num = mobile\n",
    "        \n",
    "    @classmethod   \n",
    "    def details(cls ,name,email):\n",
    "        return cls(name,email)\n",
    "        \n",
    "    def students_details(self) :\n",
    "            print(self.name,self.email,pwskills2.mobile_num)"
   ]
  },
  {
   "cell_type": "code",
   "execution_count": 58,
   "id": "d145a24b-5403-4cf0-885b-1a31af082d25",
   "metadata": {},
   "outputs": [],
   "source": [
    "del pwskills4.change_number"
   ]
  },
  {
   "cell_type": "code",
   "execution_count": 59,
   "id": "4c9457bc-6e52-4dbd-859b-424420d256b4",
   "metadata": {},
   "outputs": [
    {
     "ename": "AttributeError",
     "evalue": "type object 'pwskills4' has no attribute 'change_number'",
     "output_type": "error",
     "traceback": [
      "\u001b[0;31m---------------------------------------------------------------------------\u001b[0m",
      "\u001b[0;31mAttributeError\u001b[0m                            Traceback (most recent call last)",
      "Cell \u001b[0;32mIn[59], line 1\u001b[0m\n\u001b[0;32m----> 1\u001b[0m \u001b[43mpwskills4\u001b[49m\u001b[38;5;241;43m.\u001b[39;49m\u001b[43mchange_number\u001b[49m(\u001b[38;5;241m3434443443\u001b[39m)\n",
      "\u001b[0;31mAttributeError\u001b[0m: type object 'pwskills4' has no attribute 'change_number'"
     ]
    }
   ],
   "source": [
    "pwskills4.change_number(3434443443)"
   ]
  },
  {
   "cell_type": "code",
   "execution_count": null,
   "id": "37f33b4e-0286-4b73-aee5-7ba1eea09f31",
   "metadata": {},
   "outputs": [],
   "source": [
    "d"
   ]
  }
 ],
 "metadata": {
  "kernelspec": {
   "display_name": "Python 3 (ipykernel)",
   "language": "python",
   "name": "python3"
  },
  "language_info": {
   "codemirror_mode": {
    "name": "ipython",
    "version": 3
   },
   "file_extension": ".py",
   "mimetype": "text/x-python",
   "name": "python",
   "nbconvert_exporter": "python",
   "pygments_lexer": "ipython3",
   "version": "3.10.8"
  }
 },
 "nbformat": 4,
 "nbformat_minor": 5
}
